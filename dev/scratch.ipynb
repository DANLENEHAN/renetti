{
 "cells": [
  {
   "cell_type": "code",
   "execution_count": 1,
   "metadata": {},
   "outputs": [],
   "source": [
    "from bs4 import BeautifulSoup\n",
    "from playwright.async_api import async_playwright\n",
    "from renetti.ws.spiders.utils import parse_product_json_ld_from_page\n",
    "import aiohttp"
   ]
  },
  {
   "cell_type": "code",
   "execution_count": 2,
   "metadata": {},
   "outputs": [],
   "source": [
    "url = \"https://www.roguefitness.com/gb/weightlifting-bars-plates/barbells\"\n",
    "base_url = \"https://www.roguefitness.com\""
   ]
  },
  {
   "cell_type": "code",
   "execution_count": 47,
   "metadata": {},
   "outputs": [],
   "source": [
    "async with async_playwright() as playwright:\n",
    "    async with await playwright.chromium.launch(headless=False) as browser:\n",
    "        async with await browser.new_context() as context:\n",
    "            async with await context.new_page() as page:\n",
    "                urls = []\n",
    "                page_number = 1\n",
    "                while True:\n",
    "                    await page.goto(\n",
    "                        url=f\"{url}?page_number={page_number}\"\n",
    "                    )\n",
    "                    html = await page.content()\n",
    "                    soup = BeautifulSoup(markup=html, features=\"html.parser\")\n",
    "                    a_tags = soup.findAll(\"a\", class_=\"hover-card\")\n",
    "                    urls += [\n",
    "                        f\"{base_url}{a.get('href')}\" for a in a_tags\n",
    "                    ]\n",
    "                    page_number += 1\n",
    "                    try:\n",
    "                        await page.wait_for_selector('a[aria-label=\"Category Pagination Next\"]', timeout=2000)\n",
    "                    except:\n",
    "                        break"
   ]
  },
  {
   "cell_type": "code",
   "execution_count": 49,
   "metadata": {},
   "outputs": [],
   "source": [
    "url = \"https://www.roguefitness.com/gb/rogue-rml-490-power-rack-color-3-0-eu\""
   ]
  },
  {
   "cell_type": "code",
   "execution_count": 50,
   "metadata": {},
   "outputs": [
    {
     "data": {
      "text/plain": [
       "{'name': 'Rogue RML-490C Power Rack 3.0',\n",
       " 'image_links': ['https://assets.roguefitness.com/f_auto,q_auto,c_limit,w_1600,b_rgb:ffffff/catalog/Rigs%20and%20Racks/Power%20Racks%20/Monster%20Lite%20Racks/EU-RML-490C/ML-Numbered-Rack-extra-2_va8bjq.webp',\n",
       "  'https://assets.roguefitness.com/f_auto,q_auto,c_limit,w_1600,b_rgb:ffffff/catalog/Rigs%20and%20Racks/Power%20Racks%20/Monster%20Lite%20Racks/EU-RML-490C-NEW/EU-RML-490C-NEW-H-Satin-Black-Standard_pxypqu.png',\n",
       "  'https://assets.roguefitness.com/f_auto,q_auto,c_limit,w_1600,b_rgb:ffffff/catalog/Rigs%20and%20Racks/Power%20Racks%20/Monster%20Lite%20Racks/EU-RML-490C/ML-Numbered-Rack-extra-4_ndflnh.webp',\n",
       "  'https://assets.roguefitness.com/f_auto,q_auto,c_limit,w_1600,b_rgb:ffffff/catalog/Rigs%20and%20Racks/Power%20Racks%20/Monster%20Lite%20Racks/EU-RML-490C/ML-Numbered-Rack-extra-1_r4cu3q.webp',\n",
       "  'https://assets.roguefitness.com/f_auto,q_auto,c_limit,w_1600,b_rgb:ffffff/catalog/Rigs%20and%20Racks/Power%20Racks%20/Monster%20Lite%20Racks/EU-RML-490C/ML-Numbered-Rack-extra-3_vomrjd.webp'],\n",
       " 'mpn': 'EU-RF0863-CONFIG',\n",
       " 'description': None,\n",
       " 'brands': ['Rogue Fitness'],\n",
       " 'categories': ['Rogue Rigs & Racks > Power Racks > Monster Lite Racks'],\n",
       " 'skus': ['EU-RF0863-CONFIG']}"
      ]
     },
     "execution_count": 50,
     "metadata": {},
     "output_type": "execute_result"
    }
   ],
   "source": [
    "async with aiohttp.ClientSession() as session:\n",
    "        async with session.get(url=url) as response:\n",
    "            html = await response.text()\n",
    "            soup = BeautifulSoup(markup=html)\n",
    "        product = parse_product_json_ld_from_page(soup=soup)\n",
    "product"
   ]
  }
 ],
 "metadata": {
  "kernelspec": {
   "display_name": "renetti--Bo1TxlW-py3.12",
   "language": "python",
   "name": "python3"
  },
  "language_info": {
   "codemirror_mode": {
    "name": "ipython",
    "version": 3
   },
   "file_extension": ".py",
   "mimetype": "text/x-python",
   "name": "python",
   "nbconvert_exporter": "python",
   "pygments_lexer": "ipython3",
   "version": "3.12.6"
  }
 },
 "nbformat": 4,
 "nbformat_minor": 2
}
