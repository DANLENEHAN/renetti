{
 "cells": [
  {
   "cell_type": "code",
   "execution_count": 2,
   "metadata": {},
   "outputs": [],
   "source": [
    "from bs4 import BeautifulSoup\n",
    "from playwright.async_api import async_playwright\n",
    "\n",
    "from renetti.ws.spiders.utils import parse_product_json_ld_from_page"
   ]
  },
  {
   "cell_type": "code",
   "execution_count": 100,
   "metadata": {},
   "outputs": [],
   "source": [
    "# url = \"https://gymequipment.co.uk/exigo-chin-dip-leg-raise-station\"\n",
    "# url = \"https://www.ukgymequipment.com/cardio-machines-c11/cross-trainers-c38/refurbished-772at-arc-trainer-p4131\"\n",
    "\n",
    "# # Techno Gym\n",
    "url = \"https://www.technogym.com/en-GB/product/sling-trainer_A0001317.html\"\n",
    "# url = \"https://www.technogym.com/en-GB/product/power-bands_A0001235.html\"\n",
    "# url = \"https://www.technogym.com/en-GB/product/dual-adjustable-pulley-fitness_MB44.html\"\n",
    "# url = \"https://www.technogym.com/en-GB/product/excite-top_DF7U-SLS.html\"\n",
    "# url = \"https://www.technogym.com/en-GB/product/technogym-bench_DGY100.html\""
   ]
  },
  {
   "cell_type": "code",
   "execution_count": 101,
   "metadata": {},
   "outputs": [],
   "source": [
    "async with async_playwright() as playwright:\n",
    "    async with await playwright.chromium.launch(headless=False) as browser:\n",
    "        async with await browser.new_context() as context:\n",
    "            async with await context.new_page() as page:\n",
    "                await page.goto(url=url)\n",
    "                html = await page.content()\n",
    "                soup = BeautifulSoup(markup=html)\n",
    "                scraped_equipment = parse_product_json_ld_from_page(soup=soup)\n",
    "\n",
    "                glb_frame = None\n",
    "                glb_image = None\n",
    "                for frame in page.frames:\n",
    "                    if \"londondynamics.com\" in frame.url:\n",
    "                        glb_frame = frame\n",
    "                        await glb_frame.wait_for_selector('model-viewer')\n",
    "                        break\n",
    "\n",
    "                if glb_frame:\n",
    "                    frame_content = await glb_frame.content()\n",
    "                    frame_soup = BeautifulSoup(markup=frame_content)\n",
    "                    model_viewer = frame_soup.find(\"model-viewer\")\n",
    "                    if model_viewer:\n",
    "                        glb_image = model_viewer.get(\"src\")\n",
    "                \n",
    "                if glb_image:\n",
    "                    scraped_equipment[\"image_links\"].append(glb_image)"
   ]
  },
  {
   "cell_type": "code",
   "execution_count": 102,
   "metadata": {},
   "outputs": [
    {
     "data": {
      "text/plain": [
       "{'name': 'Sling Trainer',\n",
       " 'image_links': ['https://www.technogym.com/en-GB/feed/images/A0001317/sling-trainer-plp.jpg'],\n",
       " 'mpn': 'A0001317',\n",
       " 'description': 'Improve muscle tone and stability with a functional workout of varying intensity that you can perform anywhere simply using your body weight.',\n",
       " 'brands': ['Technogym'],\n",
       " 'categories': [],\n",
       " 'skus': ['A0001317']}"
      ]
     },
     "execution_count": 102,
     "metadata": {},
     "output_type": "execute_result"
    }
   ],
   "source": [
    "scraped_equipment"
   ]
  }
 ],
 "metadata": {
  "kernelspec": {
   "display_name": "renetti--Bo1TxlW-py3.12",
   "language": "python",
   "name": "python3"
  },
  "language_info": {
   "codemirror_mode": {
    "name": "ipython",
    "version": 3
   },
   "file_extension": ".py",
   "mimetype": "text/x-python",
   "name": "python",
   "nbconvert_exporter": "python",
   "pygments_lexer": "ipython3",
   "version": "3.12.6"
  }
 },
 "nbformat": 4,
 "nbformat_minor": 2
}
