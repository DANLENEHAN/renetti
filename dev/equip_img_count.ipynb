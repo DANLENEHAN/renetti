{
 "cells": [
  {
   "cell_type": "code",
   "execution_count": null,
   "metadata": {},
   "outputs": [],
   "source": [
    "import os"
   ]
  },
  {
   "cell_type": "code",
   "execution_count": 8,
   "metadata": {},
   "outputs": [
    {
     "name": "stdout",
     "output_type": "stream",
     "text": [
      "Number of files in leg-extension:97\n",
      "Number of files in decline-bench:64\n",
      "Number of files in power-rack:100\n",
      "Number of files in bicep-curl:93\n",
      "Number of files in cross-trainer:53\n",
      "Number of files in back-extension:44\n",
      "Number of files in squat-stand:84\n",
      "Number of files in upright-bike:47\n",
      "Number of files in curl-bar:54\n",
      "Number of files in adjustable-bench:58\n",
      "Number of files in chin-dip:45\n",
      "Number of files in abdominal-crunch:54\n",
      "Number of files in ez-curl:10\n",
      "Number of files in adjustable-pulley:63\n",
      "Number of files in incline-bench:63\n",
      "Number of files in plate-storage:44\n",
      "Number of files in pin-select:19\n",
      "Number of files in leg-press:156\n",
      "Number of files in pec-fly:53\n",
      "Number of files in preacher-curl:59\n",
      "Number of files in flat-bench:79\n",
      "Number of files in bumper-plate:77\n",
      "Number of files in smith-machine:49\n",
      "Number of files in half-rack:113\n",
      "Number of files in rear-delt:11\n",
      "Number of files in bench-press:23\n",
      "Number of files in leg-curl:190\n",
      "Number of files in lat-pulldown:145\n",
      "Number of files in pull-up-bar:101\n",
      "Number of files in squat-rack:40\n",
      "Number of files in barbell-rack:33\n",
      "Number of files in functional-trainer:65\n",
      "Number of files in hyper-extension:46\n",
      "Number of files in olympic-bar:77\n",
      "Number of files in tricep-extension:40\n",
      "Number of files in olympic-plate:38\n",
      "Number of files in shoulder-press:135\n",
      "Number of files in olympic-bench:45\n",
      "Number of files in recumbent-bike:53\n",
      "Number of files in seated-calf:36\n",
      "Number of files in chest-press:181\n",
      "Number of files in curl-bench:5\n",
      "Number of files in storage-rack:28\n",
      "Number of files in low-row:72\n",
      "Number of files in seated-row:59\n",
      "Number of files in dumbbell-rack:104\n"
     ]
    }
   ],
   "source": [
    "import os\n",
    "\n",
    "def count_files_in_directory(directory_path):\n",
    "    file_count = 0\n",
    "    for root, dirs, files in os.walk(directory_path):\n",
    "        file_count += len(files)\n",
    "    return file_count\n",
    "\n",
    "# Example usage:\n",
    "# Replace \"/path/to/directory\" with your actual directory path\n",
    "directory_path = \"/Users/dan/Work/dev/projects/renetti/renetti/files/model_data/images/training/equipment\"\n",
    "\n",
    "\n",
    "file_counts = []\n",
    "for dir in list(os.walk(directory_path))[0][1]:\n",
    "    f_path = f\"{directory_path}/{dir}\"\n",
    "    f_count = count_files_in_directory(f_path)\n",
    "    file_counts.append(f_count)\n",
    "    print(f\"Number of files in {dir}:{f_count}\")\n",
    "\n"
   ]
  },
  {
   "cell_type": "code",
   "execution_count": 9,
   "metadata": {},
   "outputs": [
    {
     "data": {
      "text/plain": [
       "(3105, 67.5)"
      ]
     },
     "execution_count": 9,
     "metadata": {},
     "output_type": "execute_result"
    }
   ],
   "source": [
    "sum(file_counts), sum(file_counts) / len(file_counts)"
   ]
  },
  {
   "cell_type": "code",
   "execution_count": null,
   "metadata": {},
   "outputs": [],
   "source": []
  }
 ],
 "metadata": {
  "kernelspec": {
   "display_name": "renetti--Bo1TxlW-py3.12",
   "language": "python",
   "name": "python3"
  },
  "language_info": {
   "codemirror_mode": {
    "name": "ipython",
    "version": 3
   },
   "file_extension": ".py",
   "mimetype": "text/x-python",
   "name": "python",
   "nbconvert_exporter": "python",
   "pygments_lexer": "ipython3",
   "version": "3.12.7"
  }
 },
 "nbformat": 4,
 "nbformat_minor": 2
}
