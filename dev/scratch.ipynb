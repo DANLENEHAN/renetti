{
 "cells": [
  {
   "cell_type": "code",
   "execution_count": 74,
   "metadata": {},
   "outputs": [],
   "source": [
    "from bs4 import BeautifulSoup\n",
    "from playwright.async_api import async_playwright\n",
    "from renetti.ws.spiders.types import ScrapedEquipment"
   ]
  },
  {
   "cell_type": "code",
   "execution_count": 6,
   "metadata": {},
   "outputs": [],
   "source": [
    "url = \"https://atlantisstrength.com/gym-equipment/\"\n",
    "base_url = \"https://atlantisstrength.com\""
   ]
  },
  {
   "cell_type": "code",
   "execution_count": 12,
   "metadata": {},
   "outputs": [
    {
     "name": "stdout",
     "output_type": "stream",
     "text": [
      "Page.wait_for_timeout: Target page, context or browser has been closed\n"
     ]
    }
   ],
   "source": [
    "async with async_playwright() as playwright:\n",
    "    async with await playwright.chromium.launch(headless=False) as browser:\n",
    "        async with await browser.new_context() as context:\n",
    "            async with await context.new_page() as page:\n",
    "                urls = []\n",
    "                await page.goto(url=url)\n",
    "                while True:\n",
    "                    await page.wait_for_timeout(3000)\n",
    "                    html = await page.content()\n",
    "                    soup = BeautifulSoup(markup=html, features=\"html.parser\")\n",
    "                    a_tags = soup.findAll(\"a\", class_=\"c-equipCards\")\n",
    "                    urls += [a.get('href') for a in a_tags]\n",
    "\n",
    "                    try:\n",
    "                        await page.wait_for_timeout(2000)\n",
    "\n",
    "                        button = await page.wait_for_selector('button.c-Pagination__content--next', timeout=2000, state='visible')\n",
    "\n",
    "                        # Ensure the button is in view before clicking\n",
    "                        await button.scroll_into_view_if_needed()\n",
    "\n",
    "                        # Click the button and wait for navigation or content change\n",
    "                        await button.click()\n",
    "\n",
    "                        # Wait a bit for content to load after the click\n",
    "                        await page.wait_for_timeout(2000)\n",
    "                    except Exception as exp:\n",
    "                        print(exp)\n",
    "                        break"
   ]
  },
  {
   "cell_type": "code",
   "execution_count": 25,
   "metadata": {},
   "outputs": [],
   "source": [
    "url = \"https://atlantisstrength.com/gym-equipment/b157\""
   ]
  },
  {
   "cell_type": "code",
   "execution_count": 72,
   "metadata": {},
   "outputs": [],
   "source": [
    "async with async_playwright() as playwright:\n",
    "    async with await playwright.chromium.launch(headless=False) as browser:\n",
    "        async with await browser.new_context() as context:\n",
    "            async with await context.new_page() as page:\n",
    "                await page.goto(url=url)\n",
    "                await page.wait_for_timeout(2000)\n",
    "                html = await page.content()\n",
    "                soup = BeautifulSoup(markup=html, features=\"html.parser\")\n",
    "\n",
    "                name = soup.find(\"div\", class_=\"c-headerEquipment__contentCol--title\")\n",
    "                if name:\n",
    "                    name = name.find(\"h2\").text\n",
    "                else:\n",
    "                    raise ValueError(\"Can't find equipment name on page\")\n",
    "\n",
    "                image_divs = soup.findAll(\"div\", class_=\"c-headerEquipment__slider--slides__img\")\n",
    "                image_links = []\n",
    "                if image_divs:\n",
    "                    image_links = [d.find(\"img\").get(\"src\") for d in image_divs]\n",
    "                else:\n",
    "                    raise ValueError(\"Can't find equipment images on page\")\n",
    "\n",
    "                category_divs = soup.find(\"div\", class_=\"c-headerEquipment__contentCol--equipmentInfos\")\n",
    "                categories = []\n",
    "                if category_divs:\n",
    "                    categories = [a.text.replace(\"\\n\", \"\").strip() for a in category_divs.findAll(\"a\")]\n",
    "                else:\n",
    "                    raise ValueError(\"Can't find equipment categories on tge page\")\n",
    "\n",
    "                description = soup.find(\"div\", class_=\"Editable\")\n",
    "                if description:\n",
    "                    description = ' '.join([l for l in description.text.split(\"\\n\") if l != \"\"])\n",
    "                else:\n",
    "                    raise ValueError(\"Can't find equipment description on the page\")\n",
    "\n",
    "                scraped_equipment = ScrapedEquipment(\n",
    "                    name=name,\n",
    "                    image_links=image_links,\n",
    "                    mpn=None,\n",
    "                    skus=None,\n",
    "                    brands=[\"Atlantis\"],\n",
    "                    categories=categories,\n",
    "                    description=description,\n",
    "                )\n"
   ]
  },
  {
   "cell_type": "code",
   "execution_count": 73,
   "metadata": {},
   "outputs": [
    {
     "data": {
      "text/plain": [
       "{'name': 'Biceps curl',\n",
       " 'image_links': ['https://atlantisstrength.com/app/uploads/2022/01/b157_principal-609x623.png',\n",
       "  'https://atlantisstrength.com/app/uploads/2022/01/b157_4.png',\n",
       "  'https://atlantisstrength.com/app/uploads/2022/01/b157_3-609x671.png',\n",
       "  'https://atlantisstrength.com/app/uploads/2022/01/b157_2.png'],\n",
       " 'mpn': None,\n",
       " 'skus': [],\n",
       " 'brands': ['Atlantis'],\n",
       " 'categories': ['Arms', 'Selectorized Equipment', 'Precision Series'],\n",
       " 'description': 'Adjustable sternum pad allows proper axis of rotation alignment. Lever arm is counterbalanced for lower starting resistance. Strategically tapered elbow pads improve durability without compromising comfort. Self-aligning handle bar accommodates a wide variety of gripping positions. Variable resistance cam accurately reflects biceps’ strength curve'}"
      ]
     },
     "execution_count": 73,
     "metadata": {},
     "output_type": "execute_result"
    }
   ],
   "source": [
    "scraped_equipment"
   ]
  }
 ],
 "metadata": {
  "kernelspec": {
   "display_name": "renetti--Bo1TxlW-py3.12",
   "language": "python",
   "name": "python3"
  },
  "language_info": {
   "codemirror_mode": {
    "name": "ipython",
    "version": 3
   },
   "file_extension": ".py",
   "mimetype": "text/x-python",
   "name": "python",
   "nbconvert_exporter": "python",
   "pygments_lexer": "ipython3",
   "version": "3.12.7"
  }
 },
 "nbformat": 4,
 "nbformat_minor": 2
}
