{
 "cells": [
  {
   "cell_type": "code",
   "execution_count": 3,
   "metadata": {},
   "outputs": [],
   "source": [
    "from bs4 import BeautifulSoup\n",
    "from playwright.async_api import async_playwright\n",
    "from renetti.ws.spiders.utils import parse_product_json_ld_from_page\n",
    "import aiohttp"
   ]
  },
  {
   "cell_type": "code",
   "execution_count": 4,
   "metadata": {},
   "outputs": [],
   "source": [
    "url = \"https://www.roguefitness.com/gb/weightlifting-bars-plates/barbells\"\n",
    "base_url = \"https://www.roguefitness.com\""
   ]
  },
  {
   "cell_type": "code",
   "execution_count": 47,
   "metadata": {},
   "outputs": [],
   "source": [
    "async with async_playwright() as playwright:\n",
    "    async with await playwright.chromium.launch(headless=False) as browser:\n",
    "        async with await browser.new_context() as context:\n",
    "            async with await context.new_page() as page:\n",
    "                urls = []\n",
    "                page_number = 1\n",
    "                while True:\n",
    "                    await page.goto(\n",
    "                        url=f\"{url}?page_number={page_number}\"\n",
    "                    )\n",
    "                    html = await page.content()\n",
    "                    soup = BeautifulSoup(markup=html, features=\"html.parser\")\n",
    "                    a_tags = soup.findAll(\"a\", class_=\"hover-card\")\n",
    "                    urls += [\n",
    "                        f\"{base_url}{a.get('href')}\" for a in a_tags\n",
    "                    ]\n",
    "                    page_number += 1\n",
    "                    try:\n",
    "                        await page.wait_for_selector('a[aria-label=\"Category Pagination Next\"]', timeout=2000)\n",
    "                    except:\n",
    "                        break"
   ]
  },
  {
   "cell_type": "code",
   "execution_count": 11,
   "metadata": {},
   "outputs": [],
   "source": [
    "url = \"https://www.roguefitness.com/gb/rogue-28mm-training-bar-cerakote\""
   ]
  },
  {
   "cell_type": "code",
   "execution_count": 13,
   "metadata": {},
   "outputs": [
    {
     "data": {
      "text/plain": [
       "{'name': 'Rogue 28mm Training Bar - Cerakote',\n",
       " 'image_links': ['https://assets.roguefitness.com/f_auto,q_auto,c_limit,w_1600,b_rgb:ffffff/catalog/Weightlifting%20Bars%20and%20Plates/Barbells/Mens%2020KG%20Barbells/28TRAININGCERAKOTE/28TRAININGCERAKOTE-BLUE-web2_runy8i.png',\n",
       "  'https://assets.roguefitness.com/f_auto,q_auto,c_limit,w_1600,b_rgb:ffffff/catalog/Weightlifting%20Bars%20and%20Plates/Barbells/Mens%2020KG%20Barbells/28TRAININGCERAKOTE/28TRAININGCERAKOTE-BLACK-H_lek9li.png',\n",
       "  'https://assets.roguefitness.com/f_auto,q_auto,c_limit,w_1600,b_rgb:ffffff/catalog/Weightlifting%20Bars%20and%20Plates/Barbells/Mens%2020KG%20Barbells/28TRAININGCERAKOTE/28TRAININGCERAKOTE-BLUE-web1_hoy4co.png',\n",
       "  'https://assets.roguefitness.com/f_auto,q_auto,c_limit,w_1600,b_rgb:ffffff/catalog/Weightlifting%20Bars%20and%20Plates/Barbells/Mens%2020KG%20Barbells/28TRAININGCERAKOTE/28TRAININGCERAKOTE-BLUE-web4_xinfde.png',\n",
       "  'https://assets.roguefitness.com/f_auto,q_auto,c_limit,w_1600,b_rgb:ffffff/catalog/Weightlifting%20Bars%20and%20Plates/Barbells/Mens%2020KG%20Barbells/28TRAININGCERAKOTE/28TRAININGCERAKOTE-BLUE-web3_sjqrhi.png'],\n",
       " 'mpn': 'EU-RA0573-EBLACK-IL',\n",
       " 'description': None,\n",
       " 'brands': ['Rogue Fitness'],\n",
       " 'categories': [\"Weightlifting Bars & Plates > Barbells > Men's 20KG Barbells\"],\n",
       " 'skus': ['EU-RA0573-EBLACK-IL']}"
      ]
     },
     "execution_count": 13,
     "metadata": {},
     "output_type": "execute_result"
    }
   ],
   "source": [
    "async with aiohttp.ClientSession() as session:\n",
    "        async with session.get(url=url) as response:\n",
    "            html = await response.text()\n",
    "            soup = BeautifulSoup(markup=html)\n",
    "        product = parse_product_json_ld_from_page(soup=soup)\n",
    "product"
   ]
  }
 ],
 "metadata": {
  "kernelspec": {
   "display_name": "renetti--Bo1TxlW-py3.12",
   "language": "python",
   "name": "python3"
  },
  "language_info": {
   "codemirror_mode": {
    "name": "ipython",
    "version": 3
   },
   "file_extension": ".py",
   "mimetype": "text/x-python",
   "name": "python",
   "nbconvert_exporter": "python",
   "pygments_lexer": "ipython3",
   "version": "3.12.7"
  }
 },
 "nbformat": 4,
 "nbformat_minor": 2
}
