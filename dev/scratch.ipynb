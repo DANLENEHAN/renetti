{
 "cells": [
  {
   "cell_type": "code",
   "execution_count": 97,
   "metadata": {},
   "outputs": [],
   "source": [
    "from bs4 import BeautifulSoup\n",
    "from playwright.async_api import async_playwright\n",
    "from renetti.ws.spiders.utils import parse_product_json_ld_from_page\n",
    "import urllib.parse"
   ]
  },
  {
   "cell_type": "code",
   "execution_count": 98,
   "metadata": {},
   "outputs": [],
   "source": [
    "url = \"https://eleiko.com/en-gb/equipment/benches/competitionbenches\"\n",
    "base_url = \"https://eleiko.com/\""
   ]
  },
  {
   "cell_type": "code",
   "execution_count": 21,
   "metadata": {},
   "outputs": [
    {
     "name": "stdout",
     "output_type": "stream",
     "text": [
      "Page.wait_for_timeout: Target page, context or browser has been closed\n"
     ]
    }
   ],
   "source": [
    "async with async_playwright() as playwright:\n",
    "    async with await playwright.chromium.launch(headless=False) as browser:\n",
    "        async with await browser.new_context() as context:\n",
    "            async with await context.new_page() as page:\n",
    "                await page.goto(url=url)\n",
    "                await page.wait_for_timeout(2000)\n",
    "                html = await page.content()\n",
    "                soup = BeautifulSoup(markup=html, features=\"html.parser\")\n",
    "                urls = [\n",
    "                    f\"{base_url}{a.get(\"href\")}\" for art in soup.find_all(\"article\") for a in art.find_all(\"a\")\n",
    "                ]"
   ]
  },
  {
   "cell_type": "code",
   "execution_count": 94,
   "metadata": {},
   "outputs": [],
   "source": [
    "url = \"https://eleiko.com/en-gb/equipment/benches/competitionbenches/3085245-060-eleiko-ipf-competition-combo-rack-pur-charcoal\"\n",
    "url = \"https://eleiko.com/en-gb/equipment/plates/fitness/3085125-20-eleiko-xf-bumper-plate-20-kg-black\""
   ]
  },
  {
   "cell_type": "code",
   "execution_count": 95,
   "metadata": {},
   "outputs": [],
   "source": [
    "async with async_playwright() as playwright:\n",
    "    async with await playwright.chromium.launch(headless=False) as browser:\n",
    "        async with await browser.new_context() as context:\n",
    "            async with await context.new_page() as page:\n",
    "                await page.goto(url=url)\n",
    "                html = await page.content()\n",
    "                soup = BeautifulSoup(markup=html)\n",
    "                scraped_equipment = parse_product_json_ld_from_page(soup=soup)\n",
    "                image_links = []\n",
    "                for img in soup.findAll(\"img\", class_=\"lg:group-hover:scale-103\"):\n",
    "                    raw_img_url = img.get(\"src\").split(\"url=\")[1]\n",
    "                    img_url = urllib.parse.unquote(raw_img_url)\n",
    "                    img_url = img_url.split(\"&\")[0]\n",
    "                    image_links.append(img_url)\n",
    "\n",
    "                categories = url.split(\"/equipment\")[1].split(\"/\")[1:-1]\n",
    "                description = soup.find_all(\"p\", class_=\"lg:leading-normal\")[0].text\n",
    "\n",
    "                scraped_equipment[\"brands\"] = [\"eleiko\"]\n",
    "                scraped_equipment[\"image_links\"] = image_links\n",
    "                scraped_equipment[\"categories\"] = categories\n",
    "                scraped_equipment[\"description\"] = description"
   ]
  },
  {
   "cell_type": "code",
   "execution_count": 96,
   "metadata": {},
   "outputs": [
    {
     "data": {
      "text/plain": [
       "{'name': 'Eleiko XF Bumper Plate - 20 kg, black',\n",
       " 'image_links': ['https://media.eleiko.com/images/upload/4x5/3085125-20_10.jpg',\n",
       "  'https://media.eleiko.com/images/upload/4x5/3085125-20_20.jpg',\n",
       "  'https://media.eleiko.com/images/upload/4x5/3085125-20_30.jpg',\n",
       "  'https://media.eleiko.com/images/upload/4x5/3085125-20_40.jpg'],\n",
       " 'mpn': None,\n",
       " 'description': 'The new Eleiko XF Bumpers feature an improved composition for enhanced durability. They remain an incredibly quiet disc designed for tough training and varied environments but now will last even longer. We have also created a more narrow 20 kg discs, one that matches the width of the 15 kg discs, so more weight can be loaded on the barbell, now up to 200 kg. Our compressed recycled crumb rubber is soft yet durable providing fantastic sound dampening and shock absorption. Discs are sold individually.',\n",
       " 'brands': ['eleiko'],\n",
       " 'categories': ['plates', 'fitness'],\n",
       " 'skus': []}"
      ]
     },
     "execution_count": 96,
     "metadata": {},
     "output_type": "execute_result"
    }
   ],
   "source": [
    "scraped_equipment"
   ]
  }
 ],
 "metadata": {
  "kernelspec": {
   "display_name": "renetti--Bo1TxlW-py3.12",
   "language": "python",
   "name": "python3"
  },
  "language_info": {
   "codemirror_mode": {
    "name": "ipython",
    "version": 3
   },
   "file_extension": ".py",
   "mimetype": "text/x-python",
   "name": "python",
   "nbconvert_exporter": "python",
   "pygments_lexer": "ipython3",
   "version": "3.12.7"
  }
 },
 "nbformat": 4,
 "nbformat_minor": 2
}
