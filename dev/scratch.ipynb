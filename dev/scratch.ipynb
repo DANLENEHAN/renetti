{
 "cells": [
  {
   "cell_type": "code",
   "execution_count": 3,
   "metadata": {},
   "outputs": [],
   "source": [
    "from bs4 import BeautifulSoup\n",
    "from playwright.async_api import async_playwright\n",
    "from renetti.ws.spiders.utils import parse_product_json_ld_from_page\n",
    "import aiohttp"
   ]
  },
  {
   "cell_type": "code",
   "execution_count": 2,
   "metadata": {},
   "outputs": [],
   "source": [
    "url = \"https://www.hoistfitness.com/collections/ccat-plate-loaded\"\n",
    "base_url = \"https://www.hoistfitness.com\""
   ]
  },
  {
   "cell_type": "code",
   "execution_count": 3,
   "metadata": {},
   "outputs": [
    {
     "data": {
      "text/plain": [
       "['https://www.hoistfitness.com/collections/ccat-plate-loaded/products/cf-3355-angled-linear-leg-press',\n",
       " 'https://www.hoistfitness.com/collections/ccat-plate-loaded/products/cf-3356-hack-squat',\n",
       " 'https://www.hoistfitness.com/collections/ccat-plate-loaded/products/cf-3359-power-squat',\n",
       " 'https://www.hoistfitness.com/collections/ccat-plate-loaded/products/cf-3411-kneeling-leg-press',\n",
       " 'https://www.hoistfitness.com/collections/ccat-plate-loaded/products/cf-3416-glute-thrust',\n",
       " 'https://www.hoistfitness.com/collections/ccat-plate-loaded/products/cf-3661-incline-leverage-row',\n",
       " 'https://www.hoistfitness.com/collections/ccat-plate-loaded/products/rpl-5101-seated-dip',\n",
       " 'https://www.hoistfitness.com/collections/ccat-plate-loaded/products/rpl-5102-biceps-curl',\n",
       " 'https://www.hoistfitness.com/collections/ccat-plate-loaded/products/rpl-5201-lat-pulldown',\n",
       " 'https://www.hoistfitness.com/collections/ccat-plate-loaded/products/rpl-5203-mid-row',\n",
       " 'https://www.hoistfitness.com/collections/ccat-plate-loaded/products/rpl-5301-chest-press',\n",
       " 'https://www.hoistfitness.com/collections/ccat-plate-loaded/products/rpl-5303-incline-chest-press',\n",
       " 'https://www.hoistfitness.com/collections/ccat-plate-loaded/products/rpl-5305-decline-chest-press',\n",
       " 'https://www.hoistfitness.com/collections/ccat-plate-loaded/products/rpl-5356-hack-squat-dead-lift-shrug',\n",
       " 'https://www.hoistfitness.com/collections/ccat-plate-loaded/products/rpl-5363-seated-calf-raise',\n",
       " 'https://www.hoistfitness.com/collections/ccat-plate-loaded/products/rpl-5403-dual-action-leg-press',\n",
       " 'https://www.hoistfitness.com/collections/ccat-plate-loaded/products/rpl-5405-standing-calf-raise',\n",
       " 'https://www.hoistfitness.com/collections/ccat-plate-loaded/products/rpl-5501-shoulder-press',\n",
       " 'https://www.hoistfitness.com/collections/ccat-plate-loaded/products/rpl-5601-abdominals']"
      ]
     },
     "execution_count": 3,
     "metadata": {},
     "output_type": "execute_result"
    }
   ],
   "source": [
    "async with async_playwright() as playwright:\n",
    "    async with await playwright.chromium.launch(headless=False) as browser:\n",
    "        async with await browser.new_context() as context:\n",
    "            async with await context.new_page() as page:\n",
    "                await page.goto(url=url)\n",
    "                await page.wait_for_timeout(2000)\n",
    "                html = await page.content()\n",
    "                soup = BeautifulSoup(markup=html, features=\"html.parser\")\n",
    "    urls = [f\"{base_url}{a.get('href')}\" for a in soup.findAll(\"a\", class_=\"product_card_img\")]\n",
    "urls"
   ]
  },
  {
   "cell_type": "code",
   "execution_count": 4,
   "metadata": {},
   "outputs": [],
   "source": [
    "url = \"https://www.hoistfitness.com//collections/cpl-roc-it-plate-loaded/products/rpl-5301-chest-press\""
   ]
  },
  {
   "cell_type": "code",
   "execution_count": 32,
   "metadata": {},
   "outputs": [],
   "source": [
    "async with aiohttp.ClientSession() as session:\n",
    "    async with await session.get(url=url) as response:\n",
    "        html = await response.text()\n",
    "        soup = BeautifulSoup(markup=html, features=\"html.parser\")\n",
    "        scraped_equipment = parse_product_json_ld_from_page(soup=soup)\n",
    "        categories = [url.split(\"collections/\")[1].split(\"/\")[0]]\n",
    "        scraped_equipment[\"categories\"] = categories\n",
    "        scraped_equipment[\"name\"] += f' {soup.find(\"div\", class_=\"product_card_sku\").find(\"h3\").text.strip()}'"
   ]
  },
  {
   "cell_type": "code",
   "execution_count": 33,
   "metadata": {},
   "outputs": [
    {
     "data": {
      "text/plain": [
       "{'name': 'Chest Press RPL-5301',\n",
       " 'image_links': ['https://www.hoistfitness.com/cdn/shop/products/RPL-5301-Black_600x.jpg?v=1664171166'],\n",
       " 'mpn': None,\n",
       " 'description': 'The HOIST® Chest Press with innovative ROX™ technology takes this classic upper body strengthening exercise to the next level!\\xa0 This machine aligns the user with the press arms throughout the entire movement – starting with the handles at chest level and rocking to a smooth finish with the handles at chin level. Independent, converging press arms, that are counter-balanced, provide a natural motion, minimizing stress to the anterior shoulder capsule, allowing for a low starting weight. Contoured press arm handles provide multiple grip positions, for a safe and comfortable workout. Generous built-in weight storage make it easy for work out enthusiasts to quickly add plates to the machine, while keeping your gym or workout facility tidy and saving space.Dynamic adjustment, designed to provide a more comfortable and secure workout based upon the body’s natural posture and flexibility is the essence behind the ROC-IT™ line from HOIST®. Try it out for yourself and EXPERIENCE THE RIDE!FEATURESROC-IT® technology aligns the user with the press-arms throughout the movement, for a start with the handles positioned at chest level and a finish with the handles level with the chinIndependent, converging press-arms provide a natural motion and minimize stress to the anterior shoulder capsuleCounter-balanced press-arms for a low starting weightContoured press-arm handles provide multiple grip positionsGenerous built-in weight storagespecsProduct Width: 52.50&quot; (133 cm)Product Height: 73.00&quot; (185 cm)Product Length: 82.25&quot; (209 cm)Machine Weight: 437 lbs. (198 kg)Max Storage: 720 lbs. (327 kg)Max Capacity: 800 lbs. (363 kg)HOIST® offers one of the best warranty policies in the industry, reaffirming our commitment to quality and customer satisfaction. HOIST warranties this product to the original purchaser only. HOIST guarantees this product to be free from defects in workmanship and/or materials under normal use or service.For complete Warranty Information, click on the “Support” link. Warranty policy applies to defects from the manufacturer only. HOIST reserves the right to change product specifications, design, and function at any time.',\n",
       " 'brands': ['HOIST Fitness'],\n",
       " 'categories': ['cpl-roc-it-plate-loaded'],\n",
       " 'skus': ['RPL-5301']}"
      ]
     },
     "execution_count": 33,
     "metadata": {},
     "output_type": "execute_result"
    }
   ],
   "source": [
    "scraped_equipment"
   ]
  },
  {
   "cell_type": "code",
   "execution_count": 28,
   "metadata": {},
   "outputs": [],
   "source": [
    "scraped_equipment[\"name\"] += soup.find(\"div\", class_=\"product_card_sku\").find(\"h3\").text.strip()"
   ]
  },
  {
   "cell_type": "code",
   "execution_count": 29,
   "metadata": {},
   "outputs": [
    {
     "data": {
      "text/plain": [
       "{'name': 'Chest Press\\n\\n\\n\\n                  RPL-5301\\n                RPL-5301',\n",
       " 'image_links': ['https://www.hoistfitness.com/cdn/shop/products/RPL-5301-Black_600x.jpg?v=1664171166'],\n",
       " 'mpn': None,\n",
       " 'description': 'The HOIST® Chest Press with innovative ROX™ technology takes this classic upper body strengthening exercise to the next level!\\xa0 This machine aligns the user with the press arms throughout the entire movement – starting with the handles at chest level and rocking to a smooth finish with the handles at chin level. Independent, converging press arms, that are counter-balanced, provide a natural motion, minimizing stress to the anterior shoulder capsule, allowing for a low starting weight. Contoured press arm handles provide multiple grip positions, for a safe and comfortable workout. Generous built-in weight storage make it easy for work out enthusiasts to quickly add plates to the machine, while keeping your gym or workout facility tidy and saving space.Dynamic adjustment, designed to provide a more comfortable and secure workout based upon the body’s natural posture and flexibility is the essence behind the ROC-IT™ line from HOIST®. Try it out for yourself and EXPERIENCE THE RIDE!FEATURESROC-IT® technology aligns the user with the press-arms throughout the movement, for a start with the handles positioned at chest level and a finish with the handles level with the chinIndependent, converging press-arms provide a natural motion and minimize stress to the anterior shoulder capsuleCounter-balanced press-arms for a low starting weightContoured press-arm handles provide multiple grip positionsGenerous built-in weight storagespecsProduct Width: 52.50&quot; (133 cm)Product Height: 73.00&quot; (185 cm)Product Length: 82.25&quot; (209 cm)Machine Weight: 437 lbs. (198 kg)Max Storage: 720 lbs. (327 kg)Max Capacity: 800 lbs. (363 kg)HOIST® offers one of the best warranty policies in the industry, reaffirming our commitment to quality and customer satisfaction. HOIST warranties this product to the original purchaser only. HOIST guarantees this product to be free from defects in workmanship and/or materials under normal use or service.For complete Warranty Information, click on the “Support” link. Warranty policy applies to defects from the manufacturer only. HOIST reserves the right to change product specifications, design, and function at any time.',\n",
       " 'brands': ['HOIST Fitness'],\n",
       " 'categories': ['cpl-roc-it-plate-loaded'],\n",
       " 'skus': ['RPL-5301']}"
      ]
     },
     "execution_count": 29,
     "metadata": {},
     "output_type": "execute_result"
    }
   ],
   "source": [
    "scraped_equipment"
   ]
  },
  {
   "cell_type": "code",
   "execution_count": 1,
   "metadata": {},
   "outputs": [],
   "source": [
    "import requests"
   ]
  },
  {
   "cell_type": "code",
   "execution_count": 3,
   "metadata": {},
   "outputs": [],
   "source": [
    "response = requests.get(\"https://www.hoistfitness.com/cdn/shop/products/CL-3309_black_3932x.png?v=1617742646\")"
   ]
  },
  {
   "cell_type": "code",
   "execution_count": 10,
   "metadata": {},
   "outputs": [],
   "source": [
    "with open(\"img.png\", \"wb\") as file:\n",
    "    file.write(response.content)"
   ]
  },
  {
   "cell_type": "code",
   "execution_count": null,
   "metadata": {},
   "outputs": [],
   "source": []
  }
 ],
 "metadata": {
  "kernelspec": {
   "display_name": "renetti--Bo1TxlW-py3.12",
   "language": "python",
   "name": "python3"
  },
  "language_info": {
   "codemirror_mode": {
    "name": "ipython",
    "version": 3
   },
   "file_extension": ".py",
   "mimetype": "text/x-python",
   "name": "python",
   "nbconvert_exporter": "python",
   "pygments_lexer": "ipython3",
   "version": "3.12.7"
  }
 },
 "nbformat": 4,
 "nbformat_minor": 2
}
