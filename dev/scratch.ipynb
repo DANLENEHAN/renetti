{
 "cells": [
  {
   "cell_type": "code",
   "execution_count": 74,
   "metadata": {},
   "outputs": [],
   "source": [
    "from bs4 import BeautifulSoup\n",
    "from playwright.async_api import async_playwright\n",
    "import aiohttp\n",
    "from renetti.ws.spiders.utils import parse_product_json_ld_from_page"
   ]
  },
  {
   "cell_type": "code",
   "execution_count": 72,
   "metadata": {},
   "outputs": [],
   "source": [
    "url = \"https://www.lifefitness.com/en-us/catalog\""
   ]
  },
  {
   "cell_type": "code",
   "execution_count": 68,
   "metadata": {},
   "outputs": [],
   "source": [
    "async with async_playwright() as playwright:\n",
    "    async with await playwright.chromium.launch(headless=False) as browser:\n",
    "        async with await browser.new_context() as context:\n",
    "            async with await context.new_page() as page:\n",
    "                page_number = 1\n",
    "                urls = []\n",
    "                while True:\n",
    "                    await page.goto(url=f\"{url}/?pageNumber={page_number}#searchform\")\n",
    "                    await page.evaluate(\"window.scrollTo(0, document.body.scrollHeight)\")\n",
    "                    html = await page.content()\n",
    "                    soup = BeautifulSoup(markup=html)\n",
    "                    urls += [f\"https://www.lifefitness.com{u.get(\"href\")}\" for u in soup.findAll(\"a\", class_=\"product-grid--item\")]\n",
    "                    try:\n",
    "                        await page.wait_for_selector(f'a[title=\"Next\"]', timeout=2000)\n",
    "                    except Exception:\n",
    "                        break\n",
    "                    page_number += 1\n"
   ]
  },
  {
   "cell_type": "code",
   "execution_count": 75,
   "metadata": {},
   "outputs": [
    {
     "data": {
      "text/plain": [
       "{'name': 'Integrity&#x2B; Treadmill',\n",
       " 'image_links': ['https://www.lifefitness.com/Kentico13CoreBase/media/LFMedia/LifeFitnessImages/Equipment/Cardio/Integrity%20Plus/Integrity-Treadmill-with-SE4-console-24-inch-in-Black-Onyx.png?ext=.png'],\n",
       " 'mpn': None,\n",
       " 'description': '&lt;p&gt;Introducing the next generation of the popular Life Fitness workhorse -- the Integrity&#x2B; Treadmill. Designed to elevate your fitness facility with modern design touches that lend to an inviting aesthetic, and&amp;nbsp;the immersive Discover SE4 Console.&lt;/p&gt;&#xD;&#xA;&#xD;&#xA;&lt;p&gt;More than 500 fitness experiences are available through the complimentary Life Fitness On Demand&#x2B;, available on the SE4 console.&lt;/p&gt;&#xD;&#xA;',\n",
       " 'brands': ['life fitness'],\n",
       " 'categories': [],\n",
       " 'skus': []}"
      ]
     },
     "execution_count": 75,
     "metadata": {},
     "output_type": "execute_result"
    }
   ],
   "source": [
    "url = \"https://www.lifefitness.com/en-us/catalog/cardio/treadmills/integrity-plus\"\n",
    "async with aiohttp.ClientSession() as session:\n",
    "    async with session.get(url=url) as response:\n",
    "                html = await response.text()\n",
    "                soup = BeautifulSoup(markup=html)\n",
    "res = parse_product_json_ld_from_page(soup=soup)\n",
    "res"
   ]
  },
  {
   "cell_type": "code",
   "execution_count": 77,
   "metadata": {},
   "outputs": [
    {
     "data": {
      "text/plain": [
       "[<script type=\"application/ld+json\">\n",
       "         {\n",
       "           \"@context\": \"https://schema.org\",\n",
       "           \"@type\": \"Product\",\n",
       "           \"description\": \"&lt;p&gt;Introducing the next generation of the popular Life Fitness workhorse -- the Integrity&#x2B; Treadmill. Designed to elevate your fitness facility with modern design touches that lend to an inviting aesthetic, and&amp;nbsp;the immersive Discover SE4 Console.&lt;/p&gt;&#xD;&#xA;&#xD;&#xA;&lt;p&gt;More than 500 fitness experiences are available through the complimentary Life Fitness On Demand&#x2B;, available on the SE4 console.&lt;/p&gt;&#xD;&#xA;\",\n",
       "           \"brand\": {\n",
       "               \"@type\": \"Brand\",\n",
       "               \"name\": \"life fitness\"\n",
       "           },\n",
       "           \"name\": \"Integrity&#x2B; Treadmill\",\n",
       "           \"image\": \"https://www.lifefitness.com/Kentico13CoreBase/media/LFMedia/LifeFitnessImages/Equipment/Cardio/Integrity%20Plus/Integrity-Treadmill-with-SE4-console-24-inch-in-Black-Onyx.png?ext=.png\"\n",
       "         }\n",
       "     </script>]"
      ]
     },
     "execution_count": 77,
     "metadata": {},
     "output_type": "execute_result"
    }
   ],
   "source": [
    "soup.find_all(\"script\", type=\"application/ld+json\")"
   ]
  }
 ],
 "metadata": {
  "kernelspec": {
   "display_name": "renetti--Bo1TxlW-py3.12",
   "language": "python",
   "name": "python3"
  },
  "language_info": {
   "codemirror_mode": {
    "name": "ipython",
    "version": 3
   },
   "file_extension": ".py",
   "mimetype": "text/x-python",
   "name": "python",
   "nbconvert_exporter": "python",
   "pygments_lexer": "ipython3",
   "version": "3.12.5"
  }
 },
 "nbformat": 4,
 "nbformat_minor": 2
}
