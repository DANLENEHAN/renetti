{
 "cells": [
  {
   "cell_type": "code",
   "execution_count": 10,
   "metadata": {},
   "outputs": [],
   "source": [
    "import json\n",
    "from collections import defaultdict\n",
    "from typing import Dict, TypedDict, List\n",
    "import boto3\n",
    "import mimetypes\n",
    "from io import BytesIO\n",
    "import requests\n",
    "import uuid"
   ]
  },
  {
   "cell_type": "code",
   "execution_count": 11,
   "metadata": {},
   "outputs": [],
   "source": [
    "S3_BUCKET = \"equipment-model-data\"\n",
    "boto3_session = boto3.Session(profile_name=\"dan\")\n",
    "s3_client = boto3_session.client(service_name='s3')"
   ]
  },
  {
   "cell_type": "code",
   "execution_count": 12,
   "metadata": {},
   "outputs": [],
   "source": [
    "def print_s3_bucket_files():\n",
    "    paginator = s3_client.get_paginator('list_objects_v2')\n",
    "    for page in paginator.paginate(Bucket=S3_BUCKET):\n",
    "        for obj in page.get('Contents', []):\n",
    "            print(obj['Key'])  # Prints the file's key (path) in the bucket"
   ]
  },
  {
   "cell_type": "code",
   "execution_count": 13,
   "metadata": {},
   "outputs": [],
   "source": [
    "class EquipmentData(TypedDict):\n",
    "    name: str\n",
    "    image_links: List[str]\n",
    "    mpn: str\n",
    "    description: str\n",
    "    brands: List[str]\n",
    "    categories: List[str]\n",
    "    skus: List[str]\n",
    "    grouping_category: str"
   ]
  },
  {
   "cell_type": "code",
   "execution_count": 14,
   "metadata": {},
   "outputs": [],
   "source": [
    "with open(\"../files/cleaned_scraped_equipment.json\", \"r\") as f:\n",
    "    equipment_data: Dict[str, EquipmentData] = json.load(f)"
   ]
  },
  {
   "cell_type": "code",
   "execution_count": 16,
   "metadata": {},
   "outputs": [],
   "source": [
    "grouped_equipment = defaultdict(lambda: defaultdict(dict))"
   ]
  },
  {
   "cell_type": "code",
   "execution_count": 17,
   "metadata": {},
   "outputs": [],
   "source": [
    "def upload_base_equipment_data():\n",
    "    for unique_name, e_dict in equipment_data.items():\n",
    "\n",
    "        group = (e_dict['grouping_category'] or \"unknown\").replace(\" \", \"-\")\n",
    "        brand = e_dict['brands'][0].lower().replace(\" \", \"-\")\n",
    "\n",
    "        path = (\n",
    "            f\"equipment/{group}/{brand}/{unique_name}/data.json\"\n",
    "        )\n",
    "        s3_client.put_object(\n",
    "            Bucket=S3_BUCKET,\n",
    "            Key=path,\n",
    "            Body=json.dumps(e_dict),\n",
    "            ContentType='application/json'\n",
    "        )"
   ]
  },
  {
   "cell_type": "code",
   "execution_count": null,
   "metadata": {},
   "outputs": [
    {
     "name": "stdout",
     "output_type": "stream",
     "text": [
      "Total successful downloads: 1\n",
      "Total failed downloads: 0\n"
     ]
    }
   ],
   "source": [
    "try:\n",
    "    with open(\"../files/successful_image_downloads.json\", \"r\") as f:\n",
    "        successful_downloads = set(json.load(f))\n",
    "except Exception as exec:\n",
    "    print(f\"'successful_image_downloads' open failed: {exec}\")\n",
    "    successful_downloads = set()\n",
    "\n",
    "try:\n",
    "    with open(\"../files/failed_image_downloads.json\", \"r\") as f:\n",
    "        failed_downloads = set(json.load(f))\n",
    "except Exception as exec:\n",
    "    print(f\"'failed_image_downloads' open failed: {exec}\")\n",
    "    failed_downloads = set()\n",
    "\n",
    "for index, (unique_name, e_dict) in enumerate(equipment_data.items()):\n",
    "    group = (e_dict['grouping_category'] or \"unknown\").replace(\" \", \"-\")\n",
    "    brand = e_dict['brands'][0].lower().replace(\" \", \"-\")\n",
    "\n",
    "    for image_link in e_dict['image_links']:\n",
    "        if image_link in successful_downloads:\n",
    "            continue\n",
    "\n",
    "        image_uuid = str(uuid.uuid4())\n",
    "        try:\n",
    "            response = requests.get(image_link)\n",
    "            if response.status_code == 200:\n",
    "                image_bytes = BytesIO(response.content)\n",
    "            else:\n",
    "                raise ValueError(f\"Failed to download image. Status code: {response.status_code}\")\n",
    "\n",
    "            content_type, _ = mimetypes.guess_type(image_link)\n",
    "            if content_type is None:\n",
    "                raise ValueError(f\"Unknown file extension for URL: {image_link}\")\n",
    "\n",
    "            file_extension = content_type.split(\"/\")[1]\n",
    "            path = (\n",
    "                f\"equipment/{group}/{brand}/{unique_name}/{unique_name}-{image_uuid}.{file_extension}\"\n",
    "            )\n",
    "\n",
    "            # Upload to S3\n",
    "            s3_client.upload_fileobj(\n",
    "                image_bytes, S3_BUCKET, path, ExtraArgs={'ContentType': content_type}\n",
    "            )\n",
    "\n",
    "            successful_downloads.add(image_link)\n",
    "        except Exception as exec:\n",
    "            print(f\"Failure: {str(exec)}\")\n",
    "            failed_downloads.add(image_link)\n",
    "\n",
    "    print(f\"Equipment {index+1}/{len(equipment_data)} complete.\")\n",
    "\n",
    "with open(\"../files/successful_image_downloads.json\", \"w\") as f:\n",
    "    json.dump(list(successful_downloads), f)\n",
    "with open(\"../files/failed_image_downloads.json\", \"w\") as f:\n",
    "    json.dump(list(failed_downloads), f)\n",
    "\n",
    "print(f\"Total successful downloads: {len(successful_downloads)}\")\n",
    "print(f\"Total failed downloads: {len(failed_downloads)}\")"
   ]
  },
  {
   "cell_type": "code",
   "execution_count": null,
   "metadata": {},
   "outputs": [],
   "source": []
  }
 ],
 "metadata": {
  "kernelspec": {
   "display_name": "renetti--Bo1TxlW-py3.12",
   "language": "python",
   "name": "python3"
  },
  "language_info": {
   "codemirror_mode": {
    "name": "ipython",
    "version": 3
   },
   "file_extension": ".py",
   "mimetype": "text/x-python",
   "name": "python",
   "nbconvert_exporter": "python",
   "pygments_lexer": "ipython3",
   "version": "3.12.7"
  }
 },
 "nbformat": 4,
 "nbformat_minor": 2
}
