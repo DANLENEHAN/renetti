{
 "cells": [
  {
   "cell_type": "code",
   "execution_count": 14,
   "metadata": {},
   "outputs": [],
   "source": [
    "from bs4 import BeautifulSoup\n",
    "from playwright.async_api import async_playwright\n",
    "from renetti.ws.spiders.utils import parse_product_json_ld_from_page\n",
    "import aiohttp"
   ]
  },
  {
   "cell_type": "code",
   "execution_count": 2,
   "metadata": {},
   "outputs": [],
   "source": [
    "url = \"https://www.hoistfitness.com/collections/ccat-plate-loaded\"\n",
    "base_url = \"https://www.hoistfitness.com\""
   ]
  },
  {
   "cell_type": "code",
   "execution_count": 3,
   "metadata": {},
   "outputs": [
    {
     "data": {
      "text/plain": [
       "['https://www.hoistfitness.com/collections/ccat-plate-loaded/products/cf-3355-angled-linear-leg-press',\n",
       " 'https://www.hoistfitness.com/collections/ccat-plate-loaded/products/cf-3356-hack-squat',\n",
       " 'https://www.hoistfitness.com/collections/ccat-plate-loaded/products/cf-3359-power-squat',\n",
       " 'https://www.hoistfitness.com/collections/ccat-plate-loaded/products/cf-3411-kneeling-leg-press',\n",
       " 'https://www.hoistfitness.com/collections/ccat-plate-loaded/products/cf-3416-glute-thrust',\n",
       " 'https://www.hoistfitness.com/collections/ccat-plate-loaded/products/cf-3661-incline-leverage-row',\n",
       " 'https://www.hoistfitness.com/collections/ccat-plate-loaded/products/rpl-5101-seated-dip',\n",
       " 'https://www.hoistfitness.com/collections/ccat-plate-loaded/products/rpl-5102-biceps-curl',\n",
       " 'https://www.hoistfitness.com/collections/ccat-plate-loaded/products/rpl-5201-lat-pulldown',\n",
       " 'https://www.hoistfitness.com/collections/ccat-plate-loaded/products/rpl-5203-mid-row',\n",
       " 'https://www.hoistfitness.com/collections/ccat-plate-loaded/products/rpl-5301-chest-press',\n",
       " 'https://www.hoistfitness.com/collections/ccat-plate-loaded/products/rpl-5303-incline-chest-press',\n",
       " 'https://www.hoistfitness.com/collections/ccat-plate-loaded/products/rpl-5305-decline-chest-press',\n",
       " 'https://www.hoistfitness.com/collections/ccat-plate-loaded/products/rpl-5356-hack-squat-dead-lift-shrug',\n",
       " 'https://www.hoistfitness.com/collections/ccat-plate-loaded/products/rpl-5363-seated-calf-raise',\n",
       " 'https://www.hoistfitness.com/collections/ccat-plate-loaded/products/rpl-5403-dual-action-leg-press',\n",
       " 'https://www.hoistfitness.com/collections/ccat-plate-loaded/products/rpl-5405-standing-calf-raise',\n",
       " 'https://www.hoistfitness.com/collections/ccat-plate-loaded/products/rpl-5501-shoulder-press',\n",
       " 'https://www.hoistfitness.com/collections/ccat-plate-loaded/products/rpl-5601-abdominals']"
      ]
     },
     "execution_count": 3,
     "metadata": {},
     "output_type": "execute_result"
    }
   ],
   "source": [
    "async with async_playwright() as playwright:\n",
    "    async with await playwright.chromium.launch(headless=False) as browser:\n",
    "        async with await browser.new_context() as context:\n",
    "            async with await context.new_page() as page:\n",
    "                await page.goto(url=url)\n",
    "                await page.wait_for_timeout(2000)\n",
    "                html = await page.content()\n",
    "                soup = BeautifulSoup(markup=html, features=\"html.parser\")\n",
    "    urls = [f\"{base_url}{a.get('href')}\" for a in soup.findAll(\"a\", class_=\"product_card_img\")]\n",
    "urls"
   ]
  },
  {
   "cell_type": "code",
   "execution_count": 21,
   "metadata": {},
   "outputs": [],
   "source": [
    "url = \"https://www.hoistfitness.com/collections/ccat-plate-loaded/products/rpl-5601-abdominals\""
   ]
  },
  {
   "cell_type": "code",
   "execution_count": 22,
   "metadata": {},
   "outputs": [],
   "source": [
    "async with aiohttp.ClientSession() as session:\n",
    "    async with await session.get(url=url) as response:\n",
    "        html = await response.text()\n",
    "        soup = BeautifulSoup(markup=html, features=\"html.parser\")\n",
    "        scraped_equipment = parse_product_json_ld_from_page(soup=soup)\n",
    "        categories = [url.split(\"collections/\")[1].split(\"/\")[0]]\n",
    "        scraped_equipment[\"categories\"] = categories"
   ]
  }
 ],
 "metadata": {
  "kernelspec": {
   "display_name": "renetti--Bo1TxlW-py3.12",
   "language": "python",
   "name": "python3"
  },
  "language_info": {
   "codemirror_mode": {
    "name": "ipython",
    "version": 3
   },
   "file_extension": ".py",
   "mimetype": "text/x-python",
   "name": "python",
   "nbconvert_exporter": "python",
   "pygments_lexer": "ipython3",
   "version": "3.12.6"
  }
 },
 "nbformat": 4,
 "nbformat_minor": 2
}
