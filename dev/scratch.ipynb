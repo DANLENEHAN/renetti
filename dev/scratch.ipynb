{
 "cells": [
  {
   "cell_type": "code",
   "execution_count": 2,
   "metadata": {},
   "outputs": [],
   "source": [
    "from bs4 import BeautifulSoup\n",
    "from playwright.async_api import async_playwright\n",
    "import urllib.parse\n",
    "from renetti.ws.spiders.types import ScrapedEquipment"
   ]
  },
  {
   "cell_type": "code",
   "execution_count": 3,
   "metadata": {},
   "outputs": [],
   "source": [
    "url = \"https://eleiko.com/en-gb/equipment/benches/workoutbenches\"\n",
    "base_url = \"https://eleiko.com\""
   ]
  },
  {
   "cell_type": "code",
   "execution_count": 8,
   "metadata": {},
   "outputs": [
    {
     "data": {
      "text/plain": [
       "['https://eleiko.com/en-gb/equipment/benches/workoutbenches/3062962-03-eleiko-adjustable-bench-black-pur',\n",
       " 'https://eleiko.com/en-gb/equipment/benches/workoutbenches/3062970-03-eleiko-flat-bench-black-pur',\n",
       " 'https://eleiko.com/en-gb/equipment/benches/workoutbenches/3062964-03-eleiko-olympic-flat-bench-black-pur',\n",
       " 'https://eleiko.com/en-gb/equipment/benches/workoutbenches/3085628-03-eleiko-seal-row-bench-black-pur',\n",
       " 'https://eleiko.com/en-gb/equipment/benches/workoutbenches/3085626-03-eleiko-incline-hyper-extension-black-pur',\n",
       " 'https://eleiko.com/en-gb/equipment/benches/workoutbenches/3085630-03-eleiko-seated-preacher-curl-black-pur',\n",
       " 'https://eleiko.com/en-gb/equipment/benches/workoutbenches/3085624-03-eleiko-ghd-black-pur',\n",
       " 'https://eleiko.com/en-gb/equipment/benches/workoutbenches/3085632-03-eleiko-sit-up-bench-black-pur',\n",
       " 'https://eleiko.com/en-gb/equipment/benches/workoutbenches/3062966-03-eleiko-olympic-incline-bench-black-pur',\n",
       " 'https://eleiko.com/en-gb/equipment/benches/workoutbenches/3062968-03-eleiko-olympic-decline-bench-black-pur',\n",
       " 'https://eleiko.com/en-gb/equipment/benches/workoutbenches/3002511-03-eleiko-xf-flat-bench',\n",
       " 'https://eleiko.com/en-gb/equipment/benches/workoutbenches/2001542-03-eleiko-ghd-knee-pad-black-pur']"
      ]
     },
     "execution_count": 8,
     "metadata": {},
     "output_type": "execute_result"
    }
   ],
   "source": [
    "async with async_playwright() as playwright:\n",
    "    async with await playwright.chromium.launch(headless=False) as browser:\n",
    "        async with await browser.new_context() as context:\n",
    "            async with await context.new_page() as page:\n",
    "                await page.goto(url=url)\n",
    "                await page.wait_for_timeout(2000)\n",
    "                html = await page.content()\n",
    "                soup = BeautifulSoup(markup=html, features=\"html.parser\")\n",
    "        urls = []\n",
    "        for art in soup.find_all(\"article\"):\n",
    "            for a in art.find_all(\"a\"):\n",
    "                content_url = a.get(\"href\")\n",
    "                if \"/en-gb/equipment\" in content_url:\n",
    "                    urls.append(f\"{base_url}{content_url}\")\n",
    "urls"
   ]
  },
  {
   "cell_type": "code",
   "execution_count": 7,
   "metadata": {},
   "outputs": [],
   "source": [
    "url = \"https://eleiko.com/en-gb/equipment/benches/competitionbenches/3085245-060-eleiko-ipf-competition-combo-rack-pur-charcoal\"\n",
    "url = \"https://eleiko.com/en-gb/equipment/plates/fitness/3085125-20-eleiko-xf-bumper-plate-20-kg-black\"\n",
    "url = \"https://eleiko.com/en-gb/equipment/outdoor/galvanized/3085515-01-eleiko-prestera-straight-pull-up-bar-outdoor\"\n",
    "url = \"https://eleiko.com/en-gb/equipment/strengthmachines/handleattachments\""
   ]
  },
  {
   "cell_type": "code",
   "execution_count": 8,
   "metadata": {},
   "outputs": [
    {
     "ename": "AttributeError",
     "evalue": "'NoneType' object has no attribute 'text'",
     "output_type": "error",
     "traceback": [
      "\u001b[0;31m---------------------------------------------------------------------------\u001b[0m",
      "\u001b[0;31mAttributeError\u001b[0m                            Traceback (most recent call last)",
      "Cell \u001b[0;32mIn[8], line 10\u001b[0m\n\u001b[1;32m      7\u001b[0m soup \u001b[38;5;241m=\u001b[39m BeautifulSoup(markup\u001b[38;5;241m=\u001b[39mhtml, features\u001b[38;5;241m=\u001b[39m\u001b[38;5;124m\"\u001b[39m\u001b[38;5;124mhtml.parser\u001b[39m\u001b[38;5;124m\"\u001b[39m)\n\u001b[1;32m      8\u001b[0m scraped_equipment \u001b[38;5;241m=\u001b[39m ScrapedEquipment()\n\u001b[0;32m---> 10\u001b[0m name \u001b[38;5;241m=\u001b[39m \u001b[43msoup\u001b[49m\u001b[38;5;241;43m.\u001b[39;49m\u001b[43mfind\u001b[49m\u001b[43m(\u001b[49m\u001b[38;5;124;43m\"\u001b[39;49m\u001b[38;5;124;43mspan\u001b[39;49m\u001b[38;5;124;43m\"\u001b[39;49m\u001b[43m,\u001b[49m\u001b[43m \u001b[49m\u001b[43mclass_\u001b[49m\u001b[38;5;241;43m=\u001b[39;49m\u001b[38;5;124;43m\"\u001b[39;49m\u001b[38;5;124;43mxl:text-h-4xl\u001b[39;49m\u001b[38;5;124;43m\"\u001b[39;49m\u001b[43m)\u001b[49m\u001b[38;5;241;43m.\u001b[39;49m\u001b[43mtext\u001b[49m\n\u001b[1;32m     12\u001b[0m image_links \u001b[38;5;241m=\u001b[39m []\n\u001b[1;32m     13\u001b[0m \u001b[38;5;28;01mfor\u001b[39;00m img \u001b[38;5;129;01min\u001b[39;00m soup\u001b[38;5;241m.\u001b[39mfindAll(\u001b[38;5;124m\"\u001b[39m\u001b[38;5;124mimg\u001b[39m\u001b[38;5;124m\"\u001b[39m, class_\u001b[38;5;241m=\u001b[39m\u001b[38;5;124m\"\u001b[39m\u001b[38;5;124mlg:group-hover:scale-103\u001b[39m\u001b[38;5;124m\"\u001b[39m):\n",
      "\u001b[0;31mAttributeError\u001b[0m: 'NoneType' object has no attribute 'text'"
     ]
    }
   ],
   "source": [
    "async with async_playwright() as playwright:\n",
    "    async with await playwright.chromium.launch(headless=False) as browser:\n",
    "        async with await browser.new_context() as context:\n",
    "            async with await context.new_page() as page:\n",
    "                await page.goto(url=url)\n",
    "                html = await page.content()\n",
    "                soup = BeautifulSoup(markup=html, features=\"html.parser\")\n",
    "                scraped_equipment = ScrapedEquipment()\n",
    "\n",
    "                name = soup.find(\"span\", class_=\"xl:text-h-4xl\").text\n",
    "\n",
    "                image_links = []\n",
    "                for img in soup.findAll(\"img\", class_=\"lg:group-hover:scale-103\"):\n",
    "                    raw_img_url = img.get(\"src\").split(\"url=\")[1]\n",
    "                    img_url = urllib.parse.unquote(raw_img_url)\n",
    "                    img_url = img_url.split(\"&\")[0]\n",
    "                    image_links.append(img_url)\n",
    "\n",
    "                categories = url.split(\"/equipment\")[1].split(\"/\")[1:-1]\n",
    "                description = soup.find_all(\"p\", class_=\"lg:leading-normal\")[0].text\n",
    "\n",
    "                scraped_equipment[\"brands\"] = [\"eleiko\"]\n",
    "                scraped_equipment[\"image_links\"] = image_links\n",
    "                scraped_equipment[\"categories\"] = categories\n",
    "                scraped_equipment[\"description\"] = description\n",
    "                scraped_equipment[\"mpn\"] = None\n",
    "                scraped_equipment[\"skus\"] = None\n",
    "                scraped_equipment[\"name\"] = name"
   ]
  },
  {
   "cell_type": "code",
   "execution_count": null,
   "metadata": {},
   "outputs": [],
   "source": []
  }
 ],
 "metadata": {
  "kernelspec": {
   "display_name": "renetti--Bo1TxlW-py3.12",
   "language": "python",
   "name": "python3"
  },
  "language_info": {
   "codemirror_mode": {
    "name": "ipython",
    "version": 3
   },
   "file_extension": ".py",
   "mimetype": "text/x-python",
   "name": "python",
   "nbconvert_exporter": "python",
   "pygments_lexer": "ipython3",
   "version": "3.12.7"
  }
 },
 "nbformat": 4,
 "nbformat_minor": 2
}
